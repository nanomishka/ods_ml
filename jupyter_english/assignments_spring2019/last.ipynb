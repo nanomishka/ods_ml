{
 "cells": [
  {
   "cell_type": "code",
   "execution_count": 515,
   "metadata": {},
   "outputs": [],
   "source": [
    "# Import libraries and set desired options\n",
    "import numpy as np\n",
    "import pandas as pd\n",
    "from scipy.sparse import hstack\n",
    "import seaborn as sns\n",
    "from sklearn.feature_extraction.text import CountVectorizer, TfidfVectorizer\n",
    "from sklearn.model_selection import TimeSeriesSplit, cross_val_score, GridSearchCV\n",
    "from sklearn.metrics import roc_auc_score\n",
    "from sklearn.linear_model import LogisticRegression\n",
    "from sklearn.preprocessing import StandardScaler\n",
    "from matplotlib import pyplot as plt"
   ]
  },
  {
   "cell_type": "code",
   "execution_count": 516,
   "metadata": {},
   "outputs": [],
   "source": [
    "# A helper function for writing predictions to a file\n",
    "def write_to_submission_file(predicted_labels, out_file,\n",
    "                             target='target', index_label=\"session_id\"):\n",
    "    predicted_df = pd.DataFrame(predicted_labels,\n",
    "                                index = np.arange(1, predicted_labels.shape[0] + 1),\n",
    "                                columns=[target])\n",
    "    predicted_df.to_csv(out_file, index_label=index_label)"
   ]
  },
  {
   "cell_type": "code",
   "execution_count": 517,
   "metadata": {},
   "outputs": [],
   "source": [
    "sites = ['site%s' % i for i in range(1, 11)]\n",
    "times = ['time%s' % i for i in range(1, 11)]"
   ]
  },
  {
   "cell_type": "code",
   "execution_count": 518,
   "metadata": {},
   "outputs": [],
   "source": [
    "train_df = pd.read_csv('../../data/train_sessions.csv',\n",
    "                       index_col='session_id', parse_dates=times)\n",
    "test_df = pd.read_csv('../../data/test_sessions.csv',\n",
    "                      index_col='session_id', parse_dates=times)\n",
    "\n",
    "# Sort the data by time\n",
    "train_df = train_df.sort_values(by='time1')"
   ]
  },
  {
   "cell_type": "code",
   "execution_count": 519,
   "metadata": {},
   "outputs": [],
   "source": [
    "train_df[sites].fillna(0).astype('int').to_csv('train_sessions_text.txt', sep=' ', index=None, header=None)\n",
    "test_df[sites].fillna(0).astype('int').to_csv('test_sessions_text.txt', sep=' ', index=None, header=None)"
   ]
  },
  {
   "cell_type": "code",
   "execution_count": 520,
   "metadata": {},
   "outputs": [],
   "source": [
    "#####################################################"
   ]
  },
  {
   "cell_type": "code",
   "execution_count": 521,
   "metadata": {
    "scrolled": true
   },
   "outputs": [
    {
     "name": "stdout",
     "output_type": "stream",
     "text": [
      "(253561, 50000) (82797, 50000)\n",
      "CPU times: user 6.31 s, sys: 195 ms, total: 6.51 s\n",
      "Wall time: 6.51 s\n"
     ]
    }
   ],
   "source": [
    "%%time\n",
    "cv = TfidfVectorizer(ngram_range=(1, 2), max_features=50000, max_df=0.80, min_df=2)\n",
    "with open('train_sessions_text.txt') as inp_train_file:\n",
    "    X_train = cv.fit_transform(inp_train_file)\n",
    "with open('test_sessions_text.txt') as inp_test_file:\n",
    "    X_test = cv.transform(inp_test_file)\n",
    "print(X_train.shape, X_test.shape)"
   ]
  },
  {
   "cell_type": "code",
   "execution_count": 522,
   "metadata": {},
   "outputs": [],
   "source": [
    "# save train targets into a separate vector\n",
    "y_train = train_df['target'].astype('int').values"
   ]
  },
  {
   "cell_type": "code",
   "execution_count": 523,
   "metadata": {},
   "outputs": [],
   "source": [
    "# performing time series cross-validation\n",
    "time_split = TimeSeriesSplit(n_splits=10)"
   ]
  },
  {
   "cell_type": "code",
   "execution_count": 524,
   "metadata": {},
   "outputs": [],
   "source": [
    "# perform time series cross-validation with logistic regression\n",
    "logit = LogisticRegression(C=1, random_state=17, solver='liblinear')"
   ]
  },
  {
   "cell_type": "code",
   "execution_count": 525,
   "metadata": {},
   "outputs": [
    {
     "name": "stdout",
     "output_type": "stream",
     "text": [
      "CPU times: user 674 ms, sys: 101 ms, total: 775 ms\n",
      "Wall time: 4.71 s\n"
     ]
    }
   ],
   "source": [
    "%%time\n",
    "# hangs with n_jobs > 1, and locally this runs much faster\n",
    "cv_scores = cross_val_score(logit, X_train, y_train, cv=time_split, scoring='roc_auc', n_jobs=-1) "
   ]
  },
  {
   "cell_type": "code",
   "execution_count": 526,
   "metadata": {},
   "outputs": [
    {
     "data": {
      "text/plain": [
       "(array([0.8002963 , 0.66032929, 0.87432248, 0.93674938, 0.84713484,\n",
       "        0.8883615 , 0.92449344, 0.87080113, 0.93027344, 0.92019323]),\n",
       " 0.8652955040273607,\n",
       " 0.07940757947938765)"
      ]
     },
     "execution_count": 526,
     "metadata": {},
     "output_type": "execute_result"
    }
   ],
   "source": [
    "cv_scores, cv_scores.mean(), cv_scores.std()"
   ]
  },
  {
   "cell_type": "code",
   "execution_count": 527,
   "metadata": {},
   "outputs": [],
   "source": [
    "#####################################################"
   ]
  },
  {
   "cell_type": "code",
   "execution_count": 528,
   "metadata": {},
   "outputs": [
    {
     "data": {
      "text/plain": [
       "LogisticRegression(C=1, class_weight=None, dual=False, fit_intercept=True,\n",
       "          intercept_scaling=1, max_iter=100, multi_class='ovr', n_jobs=1,\n",
       "          penalty='l2', random_state=17, solver='liblinear', tol=0.0001,\n",
       "          verbose=0, warm_start=False)"
      ]
     },
     "execution_count": 528,
     "metadata": {},
     "output_type": "execute_result"
    }
   ],
   "source": [
    "logit.fit(X_train, y_train)"
   ]
  },
  {
   "cell_type": "code",
   "execution_count": 529,
   "metadata": {},
   "outputs": [],
   "source": [
    "logit_test_pred = logit.predict_proba(X_test)[:, 1]\n",
    "write_to_submission_file(logit_test_pred, 'subm1.csv') # 0.91288 -> 0.91382"
   ]
  },
  {
   "cell_type": "markdown",
   "metadata": {},
   "source": [
    "### Features"
   ]
  },
  {
   "cell_type": "code",
   "execution_count": 530,
   "metadata": {},
   "outputs": [],
   "source": [
    "features = {}"
   ]
  },
  {
   "cell_type": "code",
   "execution_count": 532,
   "metadata": {},
   "outputs": [
    {
     "name": "stdout",
     "output_type": "stream",
     "text": [
      "CPU times: user 3 µs, sys: 1e+03 ns, total: 4 µs\n",
      "Wall time: 6.2 µs\n"
     ]
    }
   ],
   "source": [
    "%time\n",
    "# start_hour\n",
    "def feature_start_hour(df):\n",
    "    return df.fillna(0)['time1'].apply(lambda ts: ts.hour)\n",
    "\n",
    "features['start_hour'] = {\n",
    "    'train': feature_start_hour(train_df),\n",
    "    'test': feature_start_hour(test_df),\n",
    "}\n",
    "\n",
    "features['start_hour_scale'] = {\n",
    "    'train': features['start_hour']['train'] / 23,\n",
    "    'test': features['start_hour']['test'] / 23,\n",
    "}"
   ]
  },
  {
   "cell_type": "code",
   "execution_count": 533,
   "metadata": {},
   "outputs": [
    {
     "name": "stdout",
     "output_type": "stream",
     "text": [
      "CPU times: user 2 µs, sys: 1e+03 ns, total: 3 µs\n",
      "Wall time: 5.96 µs\n"
     ]
    }
   ],
   "source": [
    "%time\n",
    "# morning\n",
    "def feature_morning(series):\n",
    "    return ((series >= 7) & (series <= 11)).astype('int')\n",
    "\n",
    "features['morning'] = {\n",
    "    'train': feature_morning(features['start_hour']['train']),\n",
    "    'test': feature_morning(features['start_hour']['test']),\n",
    "}\n",
    "\n",
    "# day\n",
    "def feature_day(series):\n",
    "    return ((series >= 12) & (series <= 18)).astype('int')\n",
    "\n",
    "features['day'] = {\n",
    "    'train': feature_day(features['start_hour']['train']),\n",
    "    'test': feature_day(features['start_hour']['test']),\n",
    "}\n",
    "\n",
    "# evening\n",
    "def feature_evening(series):\n",
    "    return ((series >= 19) & (series <= 23)).astype('int')\n",
    "\n",
    "features['evening'] = {\n",
    "    'train': feature_evening(features['start_hour']['train']),\n",
    "    'test': feature_evening(features['start_hour']['test']),\n",
    "}\n",
    "\n",
    "# night\n",
    "def feature_night(series):\n",
    "    return ((series >= 0) & (series <= 6)).astype('int')\n",
    "\n",
    "features['night'] = {\n",
    "    'train': feature_night(features['start_hour']['train']),\n",
    "    'test': feature_night(features['start_hour']['test']),\n",
    "}"
   ]
  },
  {
   "cell_type": "code",
   "execution_count": 534,
   "metadata": {},
   "outputs": [],
   "source": [
    "# duration\n",
    "def feature_duration(df):\n",
    "    df_times = df[times]\n",
    "    return (df_times.max(axis=1) - df_times[times].min(axis=1)) / np.timedelta64(1, 's') / (1800)\n",
    "\n",
    "features['duration'] = {\n",
    "    'train': feature_duration(train_df),\n",
    "    'test': feature_duration(test_df),\n",
    "}"
   ]
  },
  {
   "cell_type": "code",
   "execution_count": 535,
   "metadata": {},
   "outputs": [],
   "source": [
    "# # sites\n",
    "# def feature_sites(df):\n",
    "#     return df[sites].count(axis=1)\n",
    "\n",
    "# features['sites'] = {\n",
    "#     'train': feature_sites(train_df),\n",
    "#     'test': feature_sites(test_df),\n",
    "# }"
   ]
  },
  {
   "cell_type": "code",
   "execution_count": 536,
   "metadata": {},
   "outputs": [
    {
     "name": "stderr",
     "output_type": "stream",
     "text": [
      "/Users/m.yuldashev/anaconda3/lib/python3.7/site-packages/numpy/lib/function_base.py:3250: RuntimeWarning: All-NaN slice encountered\n",
      "  r = func(a, **kwargs)\n"
     ]
    }
   ],
   "source": [
    "# avg_time\n",
    "def feature_avg_time(df):\n",
    "    return df[times].apply(lambda x: x.apply(lambda v: int(v.timestamp()) if not pd.isnull(v) else v)).diff(axis=1).median(axis=1, skipna=True)\n",
    "\n",
    "features['avg_time'] = {\n",
    "    'train': feature_avg_time(train_df).fillna(0),\n",
    "    'test': feature_avg_time(test_df).fillna(0),\n",
    "}\n"
   ]
  },
  {
   "cell_type": "code",
   "execution_count": 537,
   "metadata": {},
   "outputs": [],
   "source": [
    "# # first_time\n",
    "# def feature_first_time(df):\n",
    "#     return (df['time2'] - df['time1']).fillna(0) / np.timedelta64(1, 's')\n",
    "\n",
    "# features['first_time'] = {\n",
    "#     'train': feature_first_time(train_df),\n",
    "#     'test': feature_first_time(test_df),\n",
    "# }"
   ]
  },
  {
   "cell_type": "code",
   "execution_count": 538,
   "metadata": {},
   "outputs": [],
   "source": [
    "# 2014\n",
    "def feature_2014(df):\n",
    "    return (df['time1'].apply(lambda ts: ts.year) == 2014).astype('int')\n",
    "\n",
    "features['2014'] = {\n",
    "    'train': feature_2014(train_df),\n",
    "    'test': feature_2014(test_df),\n",
    "}"
   ]
  },
  {
   "cell_type": "code",
   "execution_count": 539,
   "metadata": {},
   "outputs": [
    {
     "name": "stdout",
     "output_type": "stream",
     "text": [
      "CPU times: user 3 µs, sys: 0 ns, total: 3 µs\n",
      "Wall time: 5.72 µs\n"
     ]
    }
   ],
   "source": [
    "%time\n",
    "# end_hour\n",
    "def feature_end_hour(df):\n",
    "    return df[times].max(axis=1).apply(lambda ts: ts.hour)\n",
    "\n",
    "features['end_hour'] = {\n",
    "    'train': feature_end_hour(train_df),\n",
    "    'test': feature_end_hour(test_df),\n",
    "}"
   ]
  },
  {
   "cell_type": "code",
   "execution_count": 540,
   "metadata": {},
   "outputs": [],
   "source": [
    "features['hours_start'] = {\n",
    "    'train': pd.get_dummies(features['start_hour']['train']),\n",
    "    'test': pd.get_dummies(features['start_hour']['test']),\n",
    "}\n",
    "\n",
    "features['hours_end'] = {\n",
    "    'train': pd.get_dummies(features['end_hour']['train']),\n",
    "    'test': pd.get_dummies(features['end_hour']['test']),\n",
    "}"
   ]
  },
  {
   "cell_type": "code",
   "execution_count": 541,
   "metadata": {},
   "outputs": [
    {
     "name": "stdout",
     "output_type": "stream",
     "text": [
      "CPU times: user 3 µs, sys: 1e+03 ns, total: 4 µs\n",
      "Wall time: 7.15 µs\n"
     ]
    }
   ],
   "source": [
    "%time\n",
    "# day_of_week\n",
    "def feature_day_of_week(df):\n",
    "    return df['time1'].apply(lambda t: t.weekday())\n",
    "\n",
    "features['day_of_week'] = {\n",
    "    'train': feature_day_of_week(train_df) / 7,\n",
    "    'test': feature_day_of_week(test_df) / 7,\n",
    "}"
   ]
  },
  {
   "cell_type": "code",
   "execution_count": 542,
   "metadata": {},
   "outputs": [
    {
     "name": "stdout",
     "output_type": "stream",
     "text": [
      "CPU times: user 3 µs, sys: 1e+03 ns, total: 4 µs\n",
      "Wall time: 8.11 µs\n"
     ]
    }
   ],
   "source": [
    "%time\n",
    "# month\n",
    "def feature_month(df):\n",
    "    return df['time1'].apply(lambda t: t.month)\n",
    "\n",
    "features['month'] = {\n",
    "    'train': feature_month(train_df) / 12,\n",
    "    'test': feature_month(test_df) / 12,\n",
    "}"
   ]
  },
  {
   "cell_type": "code",
   "execution_count": 543,
   "metadata": {},
   "outputs": [
    {
     "name": "stdout",
     "output_type": "stream",
     "text": [
      "CPU times: user 2 µs, sys: 1e+03 ns, total: 3 µs\n",
      "Wall time: 5.96 µs\n"
     ]
    }
   ],
   "source": [
    "# return\n",
    "def feature_return(df):\n",
    "    return df[sites].count(axis=1) - df[sites].nunique(axis=1)\n",
    "\n",
    "%time\n",
    "features['return'] = {\n",
    "    'train': feature_return(train_df),\n",
    "    'test': feature_return(test_df),\n",
    "}\n",
    "\n",
    "features['return'] = {\n",
    "    'train': features['return']['train'] / features['return']['train'].max(),\n",
    "    'test': features['return']['test'] / features['return']['test'].max(),\n",
    "}"
   ]
  },
  {
   "cell_type": "code",
   "execution_count": 544,
   "metadata": {},
   "outputs": [],
   "source": [
    "def prepare_set(cols, is_test=False):\n",
    "    return hstack([\n",
    "        X_test if is_test else X_train, \n",
    "        *[features[col]['test' if is_test else 'train'].values.reshape(-1, 1) for col in cols]]\n",
    "    )"
   ]
  },
  {
   "cell_type": "code",
   "execution_count": 545,
   "metadata": {},
   "outputs": [],
   "source": [
    "columns = (\n",
    "        'start_hour', # 3.41\n",
    "#         'end_hour',\n",
    "        'morning',  # 4.58\n",
    "        'day',  # 4.61\n",
    "        'evening',  # 0.15\n",
    "#         'night',  # -\n",
    "        'duration',  # 0.06\n",
    "#         'sites',  # -\n",
    "        'avg_time',  # -\n",
    "#         'first_time',  # 0\n",
    "        '2014',  # 0.1\n",
    "        'day_of_week',\n",
    "#         'month',\n",
    "        'return',\n",
    "    )\n",
    "\n",
    "X_train_new = hstack([\n",
    "    prepare_set(columns),\n",
    "    features['hours_start']['train'],\n",
    "    features['hours_end']['train'],\n",
    "])\n",
    "X_test_new = hstack([\n",
    "    prepare_set(columns, True),\n",
    "    features['hours_start']['test'],\n",
    "    features['hours_end']['test'],\n",
    "])\n",
    "\n",
    "# X_train_new = np.hstack([\n",
    "#     *[features[col]['train'].values.reshape(-1, 1) for col in columns],\n",
    "#     features['hours_start']['train'],\n",
    "#     features['hours_end']['train'],\n",
    "# ])"
   ]
  },
  {
   "cell_type": "code",
   "execution_count": 546,
   "metadata": {},
   "outputs": [
    {
     "name": "stdout",
     "output_type": "stream",
     "text": [
      "CPU times: user 1.73 s, sys: 256 ms, total: 1.99 s\n",
      "Wall time: 17.1 s\n"
     ]
    }
   ],
   "source": [
    "%%time\n",
    "# performing time series cross-validation, we see an improvement in ROC AUC\n",
    "# hangs with n_jobs > 1, and locally this runs much faster\n",
    "cv_scores = cross_val_score(logit, X_train_new, y_train, cv=time_split, scoring='roc_auc', n_jobs=-1)"
   ]
  },
  {
   "cell_type": "code",
   "execution_count": 547,
   "metadata": {},
   "outputs": [
    {
     "data": {
      "text/plain": [
       "(array([0.66578703, 0.84412429, 0.96711052, 0.95650211, 0.92884522,\n",
       "        0.97999949, 0.86594665, 0.96063525, 0.96848259, 0.98101456]),\n",
       " 0.9118447710576161,\n",
       " 0.09359091118748379)"
      ]
     },
     "execution_count": 547,
     "metadata": {},
     "output_type": "execute_result"
    }
   ],
   "source": [
    "cv_scores, cv_scores.mean(), cv_scores.std()\n",
    "# (array([0.87008266, 0.80648914, 0.92857517, 0.96592745, 0.91598991,\n",
    "#        0.9516962 , 0.94826252, 0.93866035, 0.95200296, 0.95071618]),\n",
    "# 0.9228402542341649,\n",
    "# 0.05391040420543547)"
   ]
  },
  {
   "cell_type": "code",
   "execution_count": 548,
   "metadata": {},
   "outputs": [],
   "source": [
    "#####################################################"
   ]
  },
  {
   "cell_type": "code",
   "execution_count": 549,
   "metadata": {},
   "outputs": [],
   "source": [
    "logit.fit(X_train_new, y_train)\n",
    "\n",
    "logit_test_pred2 = logit.predict_proba(X_test_new)[:, 1]\n",
    "write_to_submission_file(logit_test_pred2, 'subm2.csv') # 0.93843"
   ]
  },
  {
   "cell_type": "code",
   "execution_count": 553,
   "metadata": {},
   "outputs": [],
   "source": [
    "# tune regularization parameter C\n",
    "c_values = np.logspace(-2, 2, 10)\n",
    "\n",
    "logit_grid_searcher = GridSearchCV(\n",
    "    estimator=logit, param_grid={'C': c_values}, scoring='roc_auc', n_jobs=-1, cv=time_split, verbose=1\n",
    ")"
   ]
  },
  {
   "cell_type": "code",
   "execution_count": 554,
   "metadata": {},
   "outputs": [
    {
     "name": "stdout",
     "output_type": "stream",
     "text": [
      "Fitting 10 folds for each of 10 candidates, totalling 100 fits\n"
     ]
    },
    {
     "name": "stderr",
     "output_type": "stream",
     "text": [
      "[Parallel(n_jobs=-1)]: Done  34 tasks      | elapsed:   24.1s\n",
      "[Parallel(n_jobs=-1)]: Done 100 out of 100 | elapsed:  3.5min finished\n"
     ]
    },
    {
     "name": "stdout",
     "output_type": "stream",
     "text": [
      "CPU times: user 46.9 s, sys: 6.28 s, total: 53.2 s\n",
      "Wall time: 3min 41s\n"
     ]
    },
    {
     "data": {
      "text/plain": [
       "GridSearchCV(cv=TimeSeriesSplit(max_train_size=None, n_splits=10),\n",
       "       error_score='raise',\n",
       "       estimator=LogisticRegression(C=1, class_weight=None, dual=False, fit_intercept=True,\n",
       "          intercept_scaling=1, max_iter=100, multi_class='ovr', n_jobs=1,\n",
       "          penalty='l2', random_state=17, solver='liblinear', tol=0.0001,\n",
       "          verbose=0, warm_start=False),\n",
       "       fit_params=None, iid=True, n_jobs=-1,\n",
       "       param_grid={'C': array([1.00000e-02, 2.78256e-02, 7.74264e-02, 2.15443e-01, 5.99484e-01,\n",
       "       1.66810e+00, 4.64159e+00, 1.29155e+01, 3.59381e+01, 1.00000e+02])},\n",
       "       pre_dispatch='2*n_jobs', refit=True, return_train_score='warn',\n",
       "       scoring='roc_auc', verbose=1)"
      ]
     },
     "execution_count": 554,
     "metadata": {},
     "output_type": "execute_result"
    }
   ],
   "source": [
    "%%time\n",
    "logit_grid_searcher.fit(X_train_new, y_train) # WTF? Locally, it's 3min 30s"
   ]
  },
  {
   "cell_type": "code",
   "execution_count": 555,
   "metadata": {},
   "outputs": [
    {
     "data": {
      "text/plain": [
       "(0.9176980723756122, {'C': 12.915496650148826})"
      ]
     },
     "execution_count": 555,
     "metadata": {},
     "output_type": "execute_result"
    }
   ],
   "source": [
    "logit_grid_searcher.best_score_, logit_grid_searcher.best_params_  # (0.9249450807614793, {'C': 1.6681005372000592})"
   ]
  },
  {
   "cell_type": "code",
   "execution_count": 556,
   "metadata": {},
   "outputs": [],
   "source": [
    "logit_test_pred3 = logit_grid_searcher.predict_proba(X_test_new)[:, 1]\n",
    "write_to_submission_file(logit_test_pred3, 'subm3.csv')"
   ]
  },
  {
   "cell_type": "code",
   "execution_count": 557,
   "metadata": {},
   "outputs": [
    {
     "name": "stdout",
     "output_type": "stream",
     "text": [
      "CPU times: user 1.39 s, sys: 397 ms, total: 1.79 s\n",
      "Wall time: 31.6 s\n"
     ]
    }
   ],
   "source": [
    "%%time\n",
    "# performing time series cross-validation, we see an improvement in ROC AUC\n",
    "cv_scores = cross_val_score(logit_grid_searcher.best_estimator_, X_train_new, y_train, cv=time_split, scoring='roc_auc', n_jobs=-1)"
   ]
  },
  {
   "cell_type": "code",
   "execution_count": 558,
   "metadata": {},
   "outputs": [
    {
     "data": {
      "text/plain": [
       "(array([0.66252892, 0.83522061, 0.97240668, 0.96250271, 0.93606407,\n",
       "        0.97642791, 0.91768815, 0.95889084, 0.97531643, 0.9799344 ]),\n",
       " 0.9176980723756122,\n",
       " 0.09465246923113832)"
      ]
     },
     "execution_count": 558,
     "metadata": {},
     "output_type": "execute_result"
    }
   ],
   "source": [
    "cv_scores, cv_scores.mean(), cv_scores.std() # 0.9249450807614791, 0.04601868425363776"
   ]
  },
  {
   "cell_type": "code",
   "execution_count": 559,
   "metadata": {},
   "outputs": [],
   "source": [
    "logit_test_pred3 = logit_grid_searcher.predict_proba(X_test_new)[:, 1]\n",
    "write_to_submission_file(logit_test_pred3, 'submission1.csv') # 0.94637"
   ]
  },
  {
   "cell_type": "code",
   "execution_count": null,
   "metadata": {},
   "outputs": [],
   "source": [
    "logit_grid_searcher.best_estimator_.coef_[0][50000:]"
   ]
  },
  {
   "cell_type": "code",
   "execution_count": null,
   "metadata": {},
   "outputs": [],
   "source": []
  },
  {
   "cell_type": "code",
   "execution_count": null,
   "metadata": {},
   "outputs": [],
   "source": []
  },
  {
   "cell_type": "code",
   "execution_count": null,
   "metadata": {},
   "outputs": [],
   "source": []
  }
 ],
 "metadata": {
  "kernelspec": {
   "display_name": "Python 3",
   "language": "python",
   "name": "python3"
  },
  "language_info": {
   "codemirror_mode": {
    "name": "ipython",
    "version": 3
   },
   "file_extension": ".py",
   "mimetype": "text/x-python",
   "name": "python",
   "nbconvert_exporter": "python",
   "pygments_lexer": "ipython3",
   "version": "3.7.0"
  },
  "varInspector": {
   "cols": {
    "lenName": 16,
    "lenType": 16,
    "lenVar": 40
   },
   "kernels_config": {
    "python": {
     "delete_cmd_postfix": "",
     "delete_cmd_prefix": "del ",
     "library": "var_list.py",
     "varRefreshCmd": "print(var_dic_list())"
    },
    "r": {
     "delete_cmd_postfix": ") ",
     "delete_cmd_prefix": "rm(",
     "library": "var_list.r",
     "varRefreshCmd": "cat(var_dic_list()) "
    }
   },
   "types_to_exclude": [
    "module",
    "function",
    "builtin_function_or_method",
    "instance",
    "_Feature"
   ],
   "window_display": false
  }
 },
 "nbformat": 4,
 "nbformat_minor": 2
}
