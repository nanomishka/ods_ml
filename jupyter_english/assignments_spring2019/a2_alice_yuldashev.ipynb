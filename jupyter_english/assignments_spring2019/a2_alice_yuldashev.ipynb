{
 "cells": [
  {
   "cell_type": "code",
   "execution_count": 163,
   "metadata": {},
   "outputs": [],
   "source": [
    "# Import libraries and set desired options\n",
    "import numpy as np\n",
    "import pandas as pd\n",
    "from scipy.sparse import hstack\n",
    "import seaborn as sns\n",
    "from sklearn.feature_extraction.text import CountVectorizer, TfidfVectorizer\n",
    "from sklearn.model_selection import TimeSeriesSplit, cross_val_score, GridSearchCV\n",
    "from sklearn.metrics import roc_auc_score\n",
    "from sklearn.linear_model import LogisticRegression\n",
    "from sklearn.preprocessing import StandardScaler\n",
    "from matplotlib import pyplot as plt"
   ]
  },
  {
   "cell_type": "code",
   "execution_count": 2,
   "metadata": {},
   "outputs": [],
   "source": [
    "# A helper function for writing predictions to a file\n",
    "def write_to_submission_file(predicted_labels, out_file,\n",
    "                             target='target', index_label=\"session_id\"):\n",
    "    predicted_df = pd.DataFrame(predicted_labels,\n",
    "                                index = np.arange(1, predicted_labels.shape[0] + 1),\n",
    "                                columns=[target])\n",
    "    predicted_df.to_csv(out_file, index_label=index_label)"
   ]
  },
  {
   "cell_type": "code",
   "execution_count": 3,
   "metadata": {},
   "outputs": [],
   "source": [
    "sites = ['site%s' % i for i in range(1, 11)]\n",
    "times = ['time%s' % i for i in range(1, 11)]"
   ]
  },
  {
   "cell_type": "code",
   "execution_count": 4,
   "metadata": {},
   "outputs": [],
   "source": [
    "train_df = pd.read_csv('../../data/train_sessions.csv',\n",
    "                       index_col='session_id', parse_dates=times)\n",
    "test_df = pd.read_csv('../../data/test_sessions.csv',\n",
    "                      index_col='session_id', parse_dates=times)\n",
    "\n",
    "# Sort the data by time\n",
    "train_df = train_df.sort_values(by='time1')"
   ]
  },
  {
   "cell_type": "code",
   "execution_count": 5,
   "metadata": {},
   "outputs": [],
   "source": [
    "train_df[sites].fillna(0).astype('int').to_csv('train_sessions_text.txt', sep=' ', index=None, header=None)\n",
    "test_df[sites].fillna(0).astype('int').to_csv('test_sessions_text.txt', sep=' ', index=None, header=None)"
   ]
  },
  {
   "cell_type": "code",
   "execution_count": 6,
   "metadata": {},
   "outputs": [],
   "source": [
    "#####################################################"
   ]
  },
  {
   "cell_type": "code",
   "execution_count": 75,
   "metadata": {
    "scrolled": true
   },
   "outputs": [
    {
     "name": "stdout",
     "output_type": "stream",
     "text": [
      "(253561, 50000) (82797, 50000)\n",
      "CPU times: user 10.8 s, sys: 298 ms, total: 11.1 s\n",
      "Wall time: 10.5 s\n"
     ]
    }
   ],
   "source": [
    "%%time\n",
    "cv = TfidfVectorizer(ngram_range=(1, 3), max_features=50000, max_df=0.90, min_df=2)\n",
    "with open('train_sessions_text.txt') as inp_train_file:\n",
    "    X_train = cv.fit_transform(inp_train_file)\n",
    "with open('test_sessions_text.txt') as inp_test_file:\n",
    "    X_test = cv.transform(inp_test_file)\n",
    "print(X_train.shape, X_test.shape)"
   ]
  },
  {
   "cell_type": "code",
   "execution_count": 76,
   "metadata": {},
   "outputs": [],
   "source": [
    "# save train targets into a separate vector\n",
    "y_train = train_df['target'].astype('int').values"
   ]
  },
  {
   "cell_type": "code",
   "execution_count": 77,
   "metadata": {},
   "outputs": [],
   "source": [
    "# performing time series cross-validation\n",
    "time_split = TimeSeriesSplit(n_splits=10)"
   ]
  },
  {
   "cell_type": "code",
   "execution_count": 421,
   "metadata": {},
   "outputs": [],
   "source": [
    "# perform time series cross-validation with logistic regression\n",
    "logit = LogisticRegression(C=1, random_state=17, solver='liblinear')"
   ]
  },
  {
   "cell_type": "code",
   "execution_count": 79,
   "metadata": {},
   "outputs": [
    {
     "name": "stdout",
     "output_type": "stream",
     "text": [
      "CPU times: user 823 ms, sys: 96.9 ms, total: 920 ms\n",
      "Wall time: 4.05 s\n"
     ]
    }
   ],
   "source": [
    "%%time\n",
    "# hangs with n_jobs > 1, and locally this runs much faster\n",
    "cv_scores = cross_val_score(logit, X_train, y_train, cv=time_split, scoring='roc_auc', n_jobs=-1) "
   ]
  },
  {
   "cell_type": "code",
   "execution_count": 80,
   "metadata": {},
   "outputs": [
    {
     "data": {
      "text/plain": [
       "(array([0.81348435, 0.65520438, 0.87592305, 0.93549238, 0.84778787,\n",
       "        0.88863608, 0.9248393 , 0.8747525 , 0.92845316, 0.92313193]),\n",
       " 0.8667705000608688,\n",
       " 0.07978822332630801)"
      ]
     },
     "execution_count": 80,
     "metadata": {},
     "output_type": "execute_result"
    }
   ],
   "source": [
    "cv_scores, cv_scores.mean(), cv_scores.std()"
   ]
  },
  {
   "cell_type": "code",
   "execution_count": 81,
   "metadata": {},
   "outputs": [],
   "source": [
    "#####################################################"
   ]
  },
  {
   "cell_type": "code",
   "execution_count": 82,
   "metadata": {},
   "outputs": [
    {
     "data": {
      "text/plain": [
       "LogisticRegression(C=1, class_weight=None, dual=False, fit_intercept=True,\n",
       "          intercept_scaling=1, max_iter=100, multi_class='ovr', n_jobs=1,\n",
       "          penalty='l2', random_state=17, solver='liblinear', tol=0.0001,\n",
       "          verbose=0, warm_start=False)"
      ]
     },
     "execution_count": 82,
     "metadata": {},
     "output_type": "execute_result"
    }
   ],
   "source": [
    "logit.fit(X_train, y_train)"
   ]
  },
  {
   "cell_type": "code",
   "execution_count": 83,
   "metadata": {},
   "outputs": [],
   "source": [
    "logit_test_pred = logit.predict_proba(X_test)[:, 1]\n",
    "write_to_submission_file(logit_test_pred, 'subm1.csv') # 0.91288 -> 0.91382"
   ]
  },
  {
   "cell_type": "markdown",
   "metadata": {},
   "source": [
    "### Features"
   ]
  },
  {
   "cell_type": "code",
   "execution_count": 84,
   "metadata": {},
   "outputs": [],
   "source": [
    "features = {}"
   ]
  },
  {
   "cell_type": "code",
   "execution_count": 390,
   "metadata": {},
   "outputs": [],
   "source": [
    "# %time\n",
    "# # start_hour\n",
    "# def feature_start_hour(df):\n",
    "#     return df.fillna(0)['time1'].apply(lambda ts: ts.hour)\n",
    "\n",
    "# features['start_hour'] = {\n",
    "#     'train': feature_start_hour(train_df),\n",
    "#     'test': feature_start_hour(test_df),\n",
    "# }\n",
    "\n",
    "features['start_hour_scale'] = {\n",
    "    'train': features['start_hour']['train'] / 23,\n",
    "    'test': features['start_hour']['test'] / 23,\n",
    "}"
   ]
  },
  {
   "cell_type": "code",
   "execution_count": 170,
   "metadata": {},
   "outputs": [
    {
     "name": "stdout",
     "output_type": "stream",
     "text": [
      "CPU times: user 3 µs, sys: 1e+03 ns, total: 4 µs\n",
      "Wall time: 6.2 µs\n"
     ]
    }
   ],
   "source": [
    "%time\n",
    "# morning\n",
    "def feature_morning(series):\n",
    "    return ((series >= 7) & (series <= 11)).astype('int')\n",
    "\n",
    "features['morning'] = {\n",
    "    'train': feature_morning(features['start_hour']['train']),\n",
    "    'test': feature_morning(features['start_hour']['test']),\n",
    "}\n",
    "\n",
    "# day\n",
    "def feature_day(series):\n",
    "    return ((series >= 12) & (series <= 18)).astype('int')\n",
    "\n",
    "features['day'] = {\n",
    "    'train': feature_day(features['start_hour']['train']),\n",
    "    'test': feature_day(features['start_hour']['test']),\n",
    "}\n",
    "\n",
    "# evening\n",
    "def feature_evening(series):\n",
    "    return ((series >= 19) & (series <= 23)).astype('int')\n",
    "\n",
    "features['evening'] = {\n",
    "    'train': feature_evening(features['start_hour']['train']),\n",
    "    'test': feature_evening(features['start_hour']['test']),\n",
    "}\n",
    "\n",
    "# night\n",
    "def feature_night(series):\n",
    "    return ((series >= 0) & (series <= 6)).astype('int')\n",
    "\n",
    "features['night'] = {\n",
    "    'train': feature_night(features['start_hour']['train']),\n",
    "    'test': feature_night(features['start_hour']['test']),\n",
    "}"
   ]
  },
  {
   "cell_type": "code",
   "execution_count": 171,
   "metadata": {},
   "outputs": [],
   "source": [
    "# duration\n",
    "def feature_duration(df):\n",
    "    df_times = df[times]\n",
    "    return (df_times.max(axis=1) - df_times[times].min(axis=1)) / np.timedelta64(1, 's') / (1800)\n",
    "\n",
    "features['duration'] = {\n",
    "    'train': feature_duration(train_df),\n",
    "    'test': feature_duration(test_df),\n",
    "}"
   ]
  },
  {
   "cell_type": "code",
   "execution_count": 89,
   "metadata": {},
   "outputs": [],
   "source": [
    "# # sites\n",
    "# def feature_sites(df):\n",
    "#     return df[sites].count(axis=1)\n",
    "\n",
    "# features['sites'] = {\n",
    "#     'train': feature_sites(train_df),\n",
    "#     'test': feature_sites(test_df),\n",
    "# }"
   ]
  },
  {
   "cell_type": "code",
   "execution_count": 493,
   "metadata": {},
   "outputs": [
    {
     "name": "stderr",
     "output_type": "stream",
     "text": [
      "/Users/m.yuldashev/anaconda3/lib/python3.7/site-packages/numpy/lib/function_base.py:3250: RuntimeWarning: All-NaN slice encountered\n",
      "  r = func(a, **kwargs)\n"
     ]
    }
   ],
   "source": [
    "# avg_time\n",
    "def feature_avg_time(df):\n",
    "    return df[times].apply(lambda x: x.apply(lambda v: int(v.timestamp()) if not pd.isnull(v) else v)).diff(axis=1).median(axis=1, skipna=True)\n",
    "\n",
    "features['avg_time'] = {\n",
    "    'train': feature_avg_time(train_df).fillna(0),\n",
    "    'test': feature_avg_time(test_df).fillna(0),\n",
    "}\n"
   ]
  },
  {
   "cell_type": "code",
   "execution_count": 91,
   "metadata": {},
   "outputs": [],
   "source": [
    "# # first_time\n",
    "# def feature_first_time(df):\n",
    "#     return (df['time2'] - df['time1']).fillna(0) / np.timedelta64(1, 's')\n",
    "\n",
    "# features['first_time'] = {\n",
    "#     'train': feature_first_time(train_df),\n",
    "#     'test': feature_first_time(test_df),\n",
    "# }"
   ]
  },
  {
   "cell_type": "code",
   "execution_count": 92,
   "metadata": {},
   "outputs": [],
   "source": [
    "# 2014\n",
    "def feature_2014(df):\n",
    "    return (df['time1'].apply(lambda ts: ts.year) == 2014).astype('int')\n",
    "\n",
    "features['2014'] = {\n",
    "    'train': feature_2014(train_df),\n",
    "    'test': feature_2014(test_df),\n",
    "}"
   ]
  },
  {
   "cell_type": "code",
   "execution_count": 173,
   "metadata": {},
   "outputs": [
    {
     "name": "stdout",
     "output_type": "stream",
     "text": [
      "CPU times: user 3 µs, sys: 1e+03 ns, total: 4 µs\n",
      "Wall time: 6.2 µs\n"
     ]
    }
   ],
   "source": [
    "%time\n",
    "# end_hour\n",
    "def feature_end_hour(df):\n",
    "    return df[times].max(axis=1).apply(lambda ts: ts.hour)\n",
    "\n",
    "features['end_hour'] = {\n",
    "    'train': feature_end_hour(train_df),\n",
    "    'test': feature_end_hour(test_df),\n",
    "}"
   ]
  },
  {
   "cell_type": "code",
   "execution_count": 183,
   "metadata": {},
   "outputs": [],
   "source": [
    "features['hours_start'] = {\n",
    "    'train': pd.get_dummies(features['start_hour']['train']),\n",
    "    'test': pd.get_dummies(features['start_hour']['test']),\n",
    "}\n",
    "\n",
    "features['hours_end'] = {\n",
    "    'train': pd.get_dummies(features['end_hour']['train']),\n",
    "    'test': pd.get_dummies(features['end_hour']['test']),\n",
    "}"
   ]
  },
  {
   "cell_type": "code",
   "execution_count": 322,
   "metadata": {},
   "outputs": [
    {
     "name": "stdout",
     "output_type": "stream",
     "text": [
      "CPU times: user 2 µs, sys: 9 µs, total: 11 µs\n",
      "Wall time: 15.3 µs\n"
     ]
    }
   ],
   "source": [
    "%time\n",
    "# day_of_week\n",
    "def feature_day_of_week(df):\n",
    "    return df['time1'].apply(lambda t: t.weekday())\n",
    "\n",
    "features['day_of_week'] = {\n",
    "    'train': feature_day_of_week(train_df) / 7,\n",
    "    'test': feature_day_of_week(test_df) / 7,\n",
    "}"
   ]
  },
  {
   "cell_type": "code",
   "execution_count": 324,
   "metadata": {},
   "outputs": [
    {
     "name": "stdout",
     "output_type": "stream",
     "text": [
      "CPU times: user 2 µs, sys: 1 µs, total: 3 µs\n",
      "Wall time: 5.96 µs\n"
     ]
    }
   ],
   "source": [
    "%time\n",
    "# month\n",
    "def feature_month(df):\n",
    "    return df['time1'].apply(lambda t: t.month)\n",
    "\n",
    "features['month'] = {\n",
    "    'train': feature_month(train_df) / 12,\n",
    "    'test': feature_month(test_df) / 12,\n",
    "}"
   ]
  },
  {
   "cell_type": "code",
   "execution_count": 367,
   "metadata": {},
   "outputs": [],
   "source": [
    "# return\n",
    "def feature_return(df):\n",
    "    return df[sites].count(axis=1) - df[sites].nunique(axis=1)\n",
    "\n",
    "%time\n",
    "features['return'] = {\n",
    "    'train': feature_return(train_df),\n",
    "    'test': feature_return(test_df),\n",
    "}\n",
    "\n",
    "features['return'] = {\n",
    "    'train': features['return']['train'] / features['return']['train'].max(),\n",
    "    'test': features['return']['test'] / features['return']['test'].max(),\n",
    "}"
   ]
  },
  {
   "cell_type": "code",
   "execution_count": 184,
   "metadata": {},
   "outputs": [],
   "source": [
    "def prepare_set(cols, is_test=False):\n",
    "    return hstack([\n",
    "        X_test if is_test else X_train, \n",
    "        *[features[col]['test' if is_test else 'train'].values.reshape(-1, 1) for col in cols]]\n",
    "    )"
   ]
  },
  {
   "cell_type": "code",
   "execution_count": 503,
   "metadata": {},
   "outputs": [],
   "source": [
    "columns = (\n",
    "        'start_hour', # 3.41\n",
    "#         'end_hour',\n",
    "        'morning',  # 4.58\n",
    "        'day',  # 4.61\n",
    "        'evening',  # 0.15\n",
    "#         'night',  # -\n",
    "        'duration',  # 0.06\n",
    "#         'sites',  # -\n",
    "        'avg_time',  # -\n",
    "#         'first_time',  # 0\n",
    "        '2014',  # 0.1\n",
    "        'day_of_week',\n",
    "#         'month',\n",
    "        'return',\n",
    "    )\n",
    "\n",
    "X_train_new = hstack([\n",
    "    prepare_set(columns),\n",
    "    features['hours_start']['train'],\n",
    "    features['hours_end']['train'],\n",
    "])\n",
    "X_test_new = hstack([\n",
    "    prepare_set(columns, True),\n",
    "    features['hours_start']['test'],\n",
    "    features['hours_end']['test'],\n",
    "])\n",
    "\n",
    "# X_train_new = np.hstack([\n",
    "#     *[features[col]['train'].values.reshape(-1, 1) for col in columns],\n",
    "#     features['hours_start']['train'],\n",
    "#     features['hours_end']['train'],\n",
    "# ])"
   ]
  },
  {
   "cell_type": "code",
   "execution_count": 504,
   "metadata": {},
   "outputs": [
    {
     "name": "stdout",
     "output_type": "stream",
     "text": [
      "CPU times: user 1.78 s, sys: 234 ms, total: 2.01 s\n",
      "Wall time: 16.6 s\n"
     ]
    }
   ],
   "source": [
    "%%time\n",
    "# performing time series cross-validation, we see an improvement in ROC AUC\n",
    "# hangs with n_jobs > 1, and locally this runs much faster\n",
    "cv_scores = cross_val_score(logit, X_train_new, y_train, cv=time_split, scoring='roc_auc', n_jobs=-1)"
   ]
  },
  {
   "cell_type": "code",
   "execution_count": 505,
   "metadata": {},
   "outputs": [
    {
     "data": {
      "text/plain": [
       "(array([0.66856492, 0.84394834, 0.9667966 , 0.95611567, 0.92841135,\n",
       "        0.97998039, 0.86541741, 0.96169892, 0.96827599, 0.98123315]),\n",
       " 0.9120442750292028,\n",
       " 0.0929146439131644)"
      ]
     },
     "execution_count": 505,
     "metadata": {},
     "output_type": "execute_result"
    }
   ],
   "source": [
    "cv_scores, cv_scores.mean(), cv_scores.std()\n",
    "# (array([0.87008266, 0.80648914, 0.92857517, 0.96592745, 0.91598991,\n",
    "#        0.9516962 , 0.94826252, 0.93866035, 0.95200296, 0.95071618]),\n",
    "# 0.9228402542341649,\n",
    "# 0.05391040420543547)"
   ]
  },
  {
   "cell_type": "code",
   "execution_count": 506,
   "metadata": {},
   "outputs": [],
   "source": [
    "#####################################################"
   ]
  },
  {
   "cell_type": "code",
   "execution_count": 507,
   "metadata": {},
   "outputs": [],
   "source": [
    "logit.fit(X_train_new, y_train)\n",
    "\n",
    "logit_test_pred2 = logit.predict_proba(X_test_new)[:, 1]\n",
    "write_to_submission_file(logit_test_pred2, 'subm2.csv') # 0.93843"
   ]
  },
  {
   "cell_type": "code",
   "execution_count": 508,
   "metadata": {},
   "outputs": [],
   "source": [
    "# tune regularization parameter C\n",
    "c_values = np.logspace(-2, 2, 10)\n",
    "\n",
    "logit_grid_searcher = GridSearchCV(\n",
    "    estimator=logit, param_grid={'C': c_values, 'penalty': ['l1,l2']}, scoring='roc_auc', n_jobs=-1, cv=time_split, verbose=1\n",
    ")"
   ]
  },
  {
   "cell_type": "code",
   "execution_count": 509,
   "metadata": {},
   "outputs": [
    {
     "name": "stdout",
     "output_type": "stream",
     "text": [
      "Fitting 10 folds for each of 10 candidates, totalling 100 fits\n"
     ]
    },
    {
     "name": "stderr",
     "output_type": "stream",
     "text": [
      "[Parallel(n_jobs=1)]: Done 100 out of 100 | elapsed:  6.2min finished\n"
     ]
    },
    {
     "name": "stdout",
     "output_type": "stream",
     "text": [
      "CPU times: user 21min 37s, sys: 3min 30s, total: 25min 7s\n",
      "Wall time: 6min 24s\n"
     ]
    },
    {
     "data": {
      "text/plain": [
       "GridSearchCV(cv=TimeSeriesSplit(max_train_size=None, n_splits=10),\n",
       "       error_score='raise',\n",
       "       estimator=LogisticRegression(C=1, class_weight=None, dual=False, fit_intercept=True,\n",
       "          intercept_scaling=1, max_iter=100, multi_class='ovr', n_jobs=1,\n",
       "          penalty='l2', random_state=17, solver='liblinear', tol=0.0001,\n",
       "          verbose=0, warm_start=False),\n",
       "       fit_params=None, iid=True, n_jobs=1,\n",
       "       param_grid={'C': array([1.00000e-02, 2.78256e-02, 7.74264e-02, 2.15443e-01, 5.99484e-01,\n",
       "       1.66810e+00, 4.64159e+00, 1.29155e+01, 3.59381e+01, 1.00000e+02])},\n",
       "       pre_dispatch='2*n_jobs', refit=True, return_train_score='warn',\n",
       "       scoring='roc_auc', verbose=1)"
      ]
     },
     "execution_count": 509,
     "metadata": {},
     "output_type": "execute_result"
    }
   ],
   "source": [
    "%%time\n",
    "logit_grid_searcher.fit(X_train_new, y_train) # WTF? Locally, it's 3min 30s"
   ]
  },
  {
   "cell_type": "code",
   "execution_count": 510,
   "metadata": {},
   "outputs": [
    {
     "data": {
      "text/plain": [
       "(0.9179783659248585, {'C': 12.915496650148826})"
      ]
     },
     "execution_count": 510,
     "metadata": {},
     "output_type": "execute_result"
    }
   ],
   "source": [
    "logit_grid_searcher.best_score_, logit_grid_searcher.best_params_  # (0.9249450807614793, {'C': 1.6681005372000592})"
   ]
  },
  {
   "cell_type": "code",
   "execution_count": 511,
   "metadata": {},
   "outputs": [],
   "source": [
    "logit_test_pred3 = logit_grid_searcher.predict_proba(X_test_new)[:, 1]\n",
    "write_to_submission_file(logit_test_pred3, 'subm3.csv')"
   ]
  },
  {
   "cell_type": "code",
   "execution_count": 512,
   "metadata": {},
   "outputs": [
    {
     "name": "stdout",
     "output_type": "stream",
     "text": [
      "CPU times: user 1.53 s, sys: 125 ms, total: 1.65 s\n",
      "Wall time: 34.6 s\n"
     ]
    }
   ],
   "source": [
    "%%time\n",
    "# performing time series cross-validation, we see an improvement in ROC AUC\n",
    "cv_scores = cross_val_score(logit_grid_searcher.best_estimator_, X_train_new, y_train, cv=time_split, scoring='roc_auc', n_jobs=-1)"
   ]
  },
  {
   "cell_type": "code",
   "execution_count": 513,
   "metadata": {},
   "outputs": [
    {
     "data": {
      "text/plain": [
       "(array([0.66754064, 0.83568729, 0.9723427 , 0.961643  , 0.93652106,\n",
       "        0.97490628, 0.91897183, 0.95863116, 0.97520044, 0.97833926]),\n",
       " 0.9179783659248585,\n",
       " 0.0930102230227458)"
      ]
     },
     "execution_count": 513,
     "metadata": {},
     "output_type": "execute_result"
    }
   ],
   "source": [
    "cv_scores, cv_scores.mean(), cv_scores.std() # 0.9249450807614791, 0.04601868425363776"
   ]
  },
  {
   "cell_type": "code",
   "execution_count": 514,
   "metadata": {},
   "outputs": [],
   "source": [
    "logit_test_pred3 = logit_grid_searcher.predict_proba(X_test_new)[:, 1]\n",
    "write_to_submission_file(logit_test_pred3, 'submission.csv') # 0.94637"
   ]
  },
  {
   "cell_type": "code",
   "execution_count": 197,
   "metadata": {},
   "outputs": [
    {
     "data": {
      "text/plain": [
       "array([-3.81480034, -0.01736845, -3.30004216,  0.        , -0.18582495,\n",
       "       -1.77447782,  0.67294971, -2.09300448, -0.4344428 ,  0.16381344,\n",
       "        0.04503104, -2.18394556, -0.88249761,  0.99764465,  0.8805937 ,\n",
       "        0.96199189, -0.68742948, -0.58969348, -0.76390284, -0.72722688,\n",
       "       -0.53178948, -0.18582495, -1.77447782,  0.67294971, -2.09300448,\n",
       "       -0.4344428 ,  0.16381344,  0.04503104, -2.18394556, -0.88249761,\n",
       "        0.99764465,  0.8805937 ,  0.96199189, -0.68742948, -0.58969348,\n",
       "       -0.76390284, -0.72722688, -0.53178948])"
      ]
     },
     "execution_count": 197,
     "metadata": {},
     "output_type": "execute_result"
    }
   ],
   "source": [
    "logit_grid_searcher.best_estimator_.coef_[0][50000:]"
   ]
  },
  {
   "cell_type": "code",
   "execution_count": null,
   "metadata": {},
   "outputs": [],
   "source": []
  },
  {
   "cell_type": "code",
   "execution_count": null,
   "metadata": {},
   "outputs": [],
   "source": []
  },
  {
   "cell_type": "code",
   "execution_count": null,
   "metadata": {},
   "outputs": [],
   "source": []
  }
 ],
 "metadata": {
  "kernelspec": {
   "display_name": "Python 3",
   "language": "python",
   "name": "python3"
  },
  "language_info": {
   "codemirror_mode": {
    "name": "ipython",
    "version": 3
   },
   "file_extension": ".py",
   "mimetype": "text/x-python",
   "name": "python",
   "nbconvert_exporter": "python",
   "pygments_lexer": "ipython3",
   "version": "3.7.0"
  },
  "varInspector": {
   "cols": {
    "lenName": 16,
    "lenType": 16,
    "lenVar": 40
   },
   "kernels_config": {
    "python": {
     "delete_cmd_postfix": "",
     "delete_cmd_prefix": "del ",
     "library": "var_list.py",
     "varRefreshCmd": "print(var_dic_list())"
    },
    "r": {
     "delete_cmd_postfix": ") ",
     "delete_cmd_prefix": "rm(",
     "library": "var_list.r",
     "varRefreshCmd": "cat(var_dic_list()) "
    }
   },
   "types_to_exclude": [
    "module",
    "function",
    "builtin_function_or_method",
    "instance",
    "_Feature"
   ],
   "window_display": false
  }
 },
 "nbformat": 4,
 "nbformat_minor": 2
}
